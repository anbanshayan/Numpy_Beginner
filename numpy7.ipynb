{
 "cells": [
  {
   "cell_type": "markdown",
   "id": "95c35e27-23ae-47b1-9fb3-6de34039c90b",
   "metadata": {
    "vscode": {
     "languageId": "plaintext"
    }
   },
   "source": [
    "**Array Operations**"
   ]
  },
  {
   "cell_type": "code",
   "execution_count": 2,
   "id": "db450e71-e392-45c6-95f7-7df3e1c4c3dc",
   "metadata": {},
   "outputs": [],
   "source": [
    "import numpy as np\n",
    "a = np.array([1,2,3,4])\n",
    "b = np.array([5,6,7,8])"
   ]
  },
  {
   "cell_type": "markdown",
   "id": "6dc37626-ce81-4184-b7a9-502f60bcb98c",
   "metadata": {},
   "source": [
    "**Addition**"
   ]
  },
  {
   "cell_type": "code",
   "execution_count": 2,
   "id": "003044a3-58a0-40aa-9085-7ed509428f68",
   "metadata": {},
   "outputs": [
    {
     "data": {
      "text/plain": [
       "array([ 6,  8, 10, 12])"
      ]
     },
     "execution_count": 2,
     "metadata": {},
     "output_type": "execute_result"
    }
   ],
   "source": [
    "add = a+b\n",
    "add"
   ]
  },
  {
   "cell_type": "code",
   "execution_count": 3,
   "id": "291e86cf-daf4-49a6-b28e-3ec8e9a842d4",
   "metadata": {},
   "outputs": [
    {
     "data": {
      "text/plain": [
       "array([ 5, 12, 21, 32])"
      ]
     },
     "execution_count": 3,
     "metadata": {},
     "output_type": "execute_result"
    }
   ],
   "source": [
    "mul = a*b\n",
    "mul"
   ]
  },
  {
   "cell_type": "markdown",
   "id": "399d08fe-60db-46c6-be7d-683344126e15",
   "metadata": {},
   "source": [
    "**Finding Exponential**"
   ]
  },
  {
   "cell_type": "code",
   "execution_count": 5,
   "id": "e44d5baa-45b1-4a2d-8399-3e25f33aea5f",
   "metadata": {},
   "outputs": [
    {
     "data": {
      "text/plain": [
       "array([ 2.71828183,  7.3890561 , 20.08553692, 54.59815003])"
      ]
     },
     "execution_count": 5,
     "metadata": {},
     "output_type": "execute_result"
    }
   ],
   "source": [
    "exp_a = np.exp(a)\n",
    "exp_a"
   ]
  },
  {
   "cell_type": "code",
   "execution_count": 6,
   "id": "89f79212-f8f3-4fb2-9df4-694d23c03cbf",
   "metadata": {},
   "outputs": [
    {
     "data": {
      "text/plain": [
       "array([0.        , 0.69314718, 1.09861229, 1.38629436])"
      ]
     },
     "execution_count": 6,
     "metadata": {},
     "output_type": "execute_result"
    }
   ],
   "source": [
    "log_a = np.log(a)\n",
    "log_a"
   ]
  },
  {
   "cell_type": "code",
   "execution_count": 3,
   "id": "2ecc4cda-0c4e-4481-a8ee-47a0579b62bd",
   "metadata": {},
   "outputs": [
    {
     "data": {
      "text/plain": [
       "array([ 5, 12, 21, 32])"
      ]
     },
     "execution_count": 3,
     "metadata": {},
     "output_type": "execute_result"
    }
   ],
   "source": [
    "a*b"
   ]
  },
  {
   "cell_type": "code",
   "execution_count": null,
   "id": "e5aaae12-ebd5-465d-8de7-9a942c09b4a2",
   "metadata": {},
   "outputs": [],
   "source": []
  }
 ],
 "metadata": {
  "kernelspec": {
   "display_name": "Python 3 (ipykernel)",
   "language": "python",
   "name": "python3"
  },
  "language_info": {
   "codemirror_mode": {
    "name": "ipython",
    "version": 3
   },
   "file_extension": ".py",
   "mimetype": "text/x-python",
   "name": "python",
   "nbconvert_exporter": "python",
   "pygments_lexer": "ipython3",
   "version": "3.12.3"
  }
 },
 "nbformat": 4,
 "nbformat_minor": 5
}
