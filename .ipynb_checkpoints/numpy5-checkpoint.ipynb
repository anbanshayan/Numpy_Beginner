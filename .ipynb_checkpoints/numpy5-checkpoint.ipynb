{
 "cells": [
  {
   "cell_type": "code",
   "execution_count": 3,
   "id": "317cca83",
   "metadata": {
    "vscode": {
     "languageId": "plaintext"
    }
   },
   "outputs": [],
   "source": [
    "import numpy as np\n",
    "filedata = np.genfromtxt('num.txt',delimiter=\",\")"
   ]
  },
  {
   "cell_type": "markdown",
   "id": "2314d66d-d088-47cc-bdd0-a38e0ab6fa58",
   "metadata": {},
   "source": [
    "**Loading Data from file**"
   ]
  },
  {
   "cell_type": "code",
   "execution_count": 6,
   "id": "d745996c-92f7-4503-838d-fd557d4d867f",
   "metadata": {},
   "outputs": [
    {
     "data": {
      "text/plain": [
       "array([[  1,   2,   3,   4,   5,   6,   7,   8,   9],\n",
       "       [ 10,  20,  30,  40,  50,  60,  70,  80,  90],\n",
       "       [ 20,  40,  60,  80, 100, 120, 140, 160, 180]], dtype=int32)"
      ]
     },
     "execution_count": 6,
     "metadata": {},
     "output_type": "execute_result"
    }
   ],
   "source": [
    "filedata.astype('int32')"
   ]
  },
  {
   "cell_type": "markdown",
   "id": "435e96e8-e7b0-4af2-9597-c9e39e4c6186",
   "metadata": {},
   "source": [
    "**Boolean Masking**"
   ]
  },
  {
   "cell_type": "code",
   "execution_count": 4,
   "id": "b0a7f8aa-4867-4223-be4b-da8658c07a28",
   "metadata": {},
   "outputs": [
    {
     "data": {
      "text/plain": [
       "array([[False, False, False, False, False, False, False, False, False],\n",
       "       [False, False, False, False, False,  True,  True,  True,  True],\n",
       "       [False, False,  True,  True,  True,  True,  True,  True,  True]])"
      ]
     },
     "execution_count": 4,
     "metadata": {},
     "output_type": "execute_result"
    }
   ],
   "source": [
    "filedata>50"
   ]
  },
  {
   "cell_type": "code",
   "execution_count": 5,
   "id": "9267fbdd-980b-4a43-8143-ea6bc3ce9b6a",
   "metadata": {},
   "outputs": [
    {
     "data": {
      "text/plain": [
       "array([ 50.,  60.,  70.,  80.,  90.,  60.,  80., 100., 120., 140., 160.,\n",
       "       180.])"
      ]
     },
     "execution_count": 5,
     "metadata": {},
     "output_type": "execute_result"
    }
   ],
   "source": [
    "filedata[filedata>40]"
   ]
  },
  {
   "cell_type": "code",
   "execution_count": null,
   "id": "64aee4ec-1b9c-4f01-99f3-909c10a204ed",
   "metadata": {},
   "outputs": [],
   "source": []
  }
 ],
 "metadata": {
  "kernelspec": {
   "display_name": "Python 3 (ipykernel)",
   "language": "python",
   "name": "python3"
  },
  "language_info": {
   "codemirror_mode": {
    "name": "ipython",
    "version": 3
   },
   "file_extension": ".py",
   "mimetype": "text/x-python",
   "name": "python",
   "nbconvert_exporter": "python",
   "pygments_lexer": "ipython3",
   "version": "3.12.3"
  }
 },
 "nbformat": 4,
 "nbformat_minor": 5
}
