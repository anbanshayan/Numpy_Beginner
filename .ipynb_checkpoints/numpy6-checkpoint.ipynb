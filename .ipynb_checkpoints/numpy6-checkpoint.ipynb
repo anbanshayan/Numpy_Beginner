{
 "cells": [
  {
   "cell_type": "markdown",
   "id": "c739414a-6bfa-4275-a960-9b22c6670404",
   "metadata": {
    "vscode": {
     "languageId": "plaintext"
    }
   },
   "source": [
    "**Numpy Revision For Machine Learning**"
   ]
  },
  {
   "cell_type": "code",
   "execution_count": 5,
   "id": "c1a02108-1a8a-482d-a965-92fd5bb7516b",
   "metadata": {},
   "outputs": [
    {
     "name": "stdout",
     "output_type": "stream",
     "text": [
      "[1 2 3 4 5 6]\n"
     ]
    }
   ],
   "source": [
    "import numpy as np\n",
    "data_1d = np.array([1,2,3,4,5,6])\n",
    "print(data_1d)"
   ]
  },
  {
   "cell_type": "code",
   "execution_count": 6,
   "id": "0bd362a7-c5e0-41c7-93fd-118a60675b59",
   "metadata": {},
   "outputs": [
    {
     "name": "stdout",
     "output_type": "stream",
     "text": [
      "[[1 2 3]\n",
      " [4 5 6]]\n",
      "(2, 3)\n"
     ]
    }
   ],
   "source": [
    "data_2d = np.array([[1,2,3],[4,5,6]])\n",
    "print(data_2d)"
   ]
  },
  {
   "cell_type": "code",
   "execution_count": 5,
   "id": "1781f827-52a3-4ed1-b82a-68aaf1568c02",
   "metadata": {},
   "outputs": [
    {
     "name": "stdout",
     "output_type": "stream",
     "text": [
      "[[[1 2]\n",
      "  [3 4]]\n",
      "\n",
      " [[5 6]\n",
      "  [7 8]]]\n"
     ]
    }
   ],
   "source": [
    "data_3d = np.array([\n",
    "    [[1,2],[3,4]],\n",
    "    [[5,6],[7,8]]\n",
    "])\n",
    "print(data_3d)"
   ]
  },
  {
   "cell_type": "markdown",
   "id": "1ce3965b-b6b0-466c-976f-6aeb5a2ff3b7",
   "metadata": {},
   "source": [
    "**to know dimension of array**"
   ]
  },
  {
   "cell_type": "code",
   "execution_count": 6,
   "id": "d62dc9e5-db5e-44f8-b021-9a7e40d52cc1",
   "metadata": {},
   "outputs": [
    {
     "data": {
      "text/plain": [
       "3"
      ]
     },
     "execution_count": 6,
     "metadata": {},
     "output_type": "execute_result"
    }
   ],
   "source": [
    "data_3d.ndim"
   ]
  },
  {
   "cell_type": "markdown",
   "id": "9f32257b-474b-489f-bdc5-2dcd6c54a8b7",
   "metadata": {},
   "source": [
    "**to know shape of given array**"
   ]
  },
  {
   "cell_type": "code",
   "execution_count": 7,
   "id": "c107bb2c-9982-4286-92d9-9e30195ac30a",
   "metadata": {},
   "outputs": [
    {
     "name": "stdout",
     "output_type": "stream",
     "text": [
      "(2, 3)\n"
     ]
    }
   ],
   "source": [
    "print(data_2d.shape)"
   ]
  },
  {
   "cell_type": "code",
   "execution_count": 9,
   "id": "86679c4b-ef7f-4359-96e8-ef74b768fbbe",
   "metadata": {},
   "outputs": [
    {
     "ename": "IndexError",
     "evalue": "too many indices for array: array is 1-dimensional, but 2 were indexed",
     "output_type": "error",
     "traceback": [
      "\u001b[31m---------------------------------------------------------------------------\u001b[39m",
      "\u001b[31mIndexError\u001b[39m                                Traceback (most recent call last)",
      "\u001b[36mCell\u001b[39m\u001b[36m \u001b[39m\u001b[32mIn[9]\u001b[39m\u001b[32m, line 2\u001b[39m\n\u001b[32m      1\u001b[39m array = np.array([\u001b[32m1\u001b[39m,\u001b[32m2\u001b[39m,\u001b[32m3\u001b[39m,\u001b[32m4\u001b[39m,\u001b[32m5\u001b[39m,\u001b[32m6\u001b[39m,\u001b[32m7\u001b[39m,\u001b[32m8\u001b[39m,\u001b[32m9\u001b[39m])\n\u001b[32m----> \u001b[39m\u001b[32m2\u001b[39m \u001b[38;5;28mprint\u001b[39m(\u001b[43marray\u001b[49m\u001b[43m[\u001b[49m\u001b[32;43m1\u001b[39;49m\u001b[43m,\u001b[49m\u001b[32;43m2\u001b[39;49m\u001b[43m]\u001b[49m)\n",
      "\u001b[31mIndexError\u001b[39m: too many indices for array: array is 1-dimensional, but 2 were indexed"
     ]
    }
   ],
   "source": [
    "array = np.array([1,2,3\n",
    "print(array[1,2])"
   ]
  },
  {
   "cell_type": "code",
   "execution_count": null,
   "id": "a6af375b-ce57-4561-a78a-0763fcbd0af5",
   "metadata": {},
   "outputs": [],
   "source": []
  }
 ],
 "metadata": {
  "kernelspec": {
   "display_name": "Python 3 (ipykernel)",
   "language": "python",
   "name": "python3"
  },
  "language_info": {
   "codemirror_mode": {
    "name": "ipython",
    "version": 3
   },
   "file_extension": ".py",
   "mimetype": "text/x-python",
   "name": "python",
   "nbconvert_exporter": "python",
   "pygments_lexer": "ipython3",
   "version": "3.12.3"
  }
 },
 "nbformat": 4,
 "nbformat_minor": 5
}
