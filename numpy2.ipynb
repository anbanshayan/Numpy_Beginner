{
 "cells": [
  {
   "cell_type": "code",
   "execution_count": 4,
   "id": "442904ae",
   "metadata": {
    "vscode": {
     "languageId": "plaintext"
    }
   },
   "outputs": [
    {
     "name": "stdout",
     "output_type": "stream",
     "text": [
      "[[0. 0. 0.]\n",
      " [0. 0. 0.]]\n"
     ]
    }
   ],
   "source": [
    "import numpy as np\n",
    "\n",
    "#all zeros matrix array\n",
    "z = np.zeros([2,3])\n",
    "print(z)"
   ]
  },
  {
   "cell_type": "code",
   "execution_count": 9,
   "id": "df1531f6-8b40-415a-84a1-ae0ea1ee0111",
   "metadata": {},
   "outputs": [
    {
     "data": {
      "text/plain": [
       "array([[99, 99],\n",
       "       [99, 99]])"
      ]
     },
     "execution_count": 9,
     "metadata": {},
     "output_type": "execute_result"
    }
   ],
   "source": [
    "#aLl ones array\n",
    "o = np.ones([2,2])\n",
    "o"
   ]
  },
  {
   "cell_type": "code",
   "execution_count": 12,
   "id": "f42bc291-7f5d-4567-ae70-7218912399f8",
   "metadata": {},
   "outputs": [
    {
     "data": {
      "text/plain": [
       "array([[24, 24, 24],\n",
       "       [24, 24, 24],\n",
       "       [24, 24, 24]])"
      ]
     },
     "execution_count": 12,
     "metadata": {},
     "output_type": "execute_result"
    }
   ],
   "source": [
    "j = np.full([3,3],24)\n",
    "j"
   ]
  },
  {
   "cell_type": "code",
   "execution_count": 17,
   "id": "776a0f40-cfee-4edb-9b8c-2c46753aa446",
   "metadata": {},
   "outputs": [
    {
     "data": {
      "text/plain": [
       "array([[ 1,  2,  3,  4,  5,  6,  7],\n",
       "       [ 8,  9, 10, 11, 12, 13, 14]])"
      ]
     },
     "execution_count": 17,
     "metadata": {},
     "output_type": "execute_result"
    }
   ],
   "source": [
    "a = np.array([[1,2,3,4,5,6,7],[8,9,10,11,12,13,14]])\n",
    "a\n",
    "# np.full_like(a,4)"
   ]
  },
  {
   "cell_type": "code",
   "execution_count": null,
   "id": "4a7e3d05-7fe5-4456-9907-317daa96e69a",
   "metadata": {},
   "outputs": [],
   "source": []
  }
 ],
 "metadata": {
  "kernelspec": {
   "display_name": "Python 3 (ipykernel)",
   "language": "python",
   "name": "python3"
  },
  "language_info": {
   "codemirror_mode": {
    "name": "ipython",
    "version": 3
   },
   "file_extension": ".py",
   "mimetype": "text/x-python",
   "name": "python",
   "nbconvert_exporter": "python",
   "pygments_lexer": "ipython3",
   "version": "3.12.3"
  }
 },
 "nbformat": 4,
 "nbformat_minor": 5
}
