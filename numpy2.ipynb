{
 "cells": [
  {
   "cell_type": "markdown",
   "id": "a90f1372-378b-49a5-a0fd-c028413ba2aa",
   "metadata": {},
   "source": [
    "**All zeros matrix array**"
   ]
  },
  {
   "cell_type": "code",
   "execution_count": 1,
   "id": "442904ae",
   "metadata": {
    "vscode": {
     "languageId": "plaintext"
    }
   },
   "outputs": [
    {
     "name": "stdout",
     "output_type": "stream",
     "text": [
      "[[0. 0. 0.]\n",
      " [0. 0. 0.]]\n"
     ]
    }
   ],
   "source": [
    "import numpy as np\n",
    "z = np.zeros([2,3])\n",
    "print(z)"
   ]
  },
  {
   "cell_type": "code",
   "execution_count": 9,
   "id": "df1531f6-8b40-415a-84a1-ae0ea1ee0111",
   "metadata": {},
   "outputs": [
    {
     "data": {
      "text/plain": [
       "array([[99, 99],\n",
       "       [99, 99]])"
      ]
     },
     "execution_count": 9,
     "metadata": {},
     "output_type": "execute_result"
    }
   ],
   "source": [
    "#aLl ones array\n",
    "o = np.ones([2,2])\n",
    "o"
   ]
  },
  {
   "cell_type": "code",
   "execution_count": 12,
   "id": "f42bc291-7f5d-4567-ae70-7218912399f8",
   "metadata": {},
   "outputs": [
    {
     "data": {
      "text/plain": [
       "array([[24, 24, 24],\n",
       "       [24, 24, 24],\n",
       "       [24, 24, 24]])"
      ]
     },
     "execution_count": 12,
     "metadata": {},
     "output_type": "execute_result"
    }
   ],
   "source": [
    "j = np.full([3,3],24)\n",
    "j"
   ]
  },
  {
   "cell_type": "code",
   "execution_count": 17,
   "id": "776a0f40-cfee-4edb-9b8c-2c46753aa446",
   "metadata": {},
   "outputs": [
    {
     "data": {
      "text/plain": [
       "array([[ 1,  2,  3,  4,  5,  6,  7],\n",
       "       [ 8,  9, 10, 11, 12, 13, 14]])"
      ]
     },
     "execution_count": 17,
     "metadata": {},
     "output_type": "execute_result"
    }
   ],
   "source": [
    "a = np.array([[1,2,3,4,5,6,7],[8,9,10,11,12,13,14]])\n",
    "a\n",
    "# np.full_like(a,4)"
   ]
  },
  {
   "cell_type": "markdown",
   "id": "9a801390-96a7-4e14-8cbb-8a2b3c694427",
   "metadata": {},
   "source": [
    "**Generating Decimal 2D Array**"
   ]
  },
  {
   "cell_type": "code",
   "execution_count": 3,
   "id": "4a7e3d05-7fe5-4456-9907-317daa96e69a",
   "metadata": {},
   "outputs": [
    {
     "data": {
      "text/plain": [
       "array([[0.01363955, 0.27136374, 0.8556789 ],\n",
       "       [0.13481443, 0.51781556, 0.73786377]])"
      ]
     },
     "execution_count": 3,
     "metadata": {},
     "output_type": "execute_result"
    }
   ],
   "source": [
    "k = np.random.rand(2,3)\n",
    "k"
   ]
  },
  {
   "cell_type": "code",
   "execution_count": 4,
   "id": "5f2a1e1d-cd0a-4b32-9a31-3211d414d250",
   "metadata": {},
   "outputs": [
    {
     "data": {
      "text/plain": [
       "array([[5, 4],\n",
       "       [2, 2]])"
      ]
     },
     "execution_count": 4,
     "metadata": {},
     "output_type": "execute_result"
    }
   ],
   "source": [
    "#Random Integer Matrix\n",
    "np.random.randint(7,size=(2,2))\n",
    "#generate random integers from 0 (inclusive) to 7 (exclusive) — so values will be in the range"
   ]
  },
  {
   "cell_type": "code",
   "execution_count": 5,
   "id": "f1700646-aa41-4fa2-b496-91d207473e9c",
   "metadata": {},
   "outputs": [
    {
     "data": {
      "text/plain": [
       "array([[5, 2, 2],\n",
       "       [4, 8, 6],\n",
       "       [2, 9, 7]])"
      ]
     },
     "execution_count": 5,
     "metadata": {},
     "output_type": "execute_result"
    }
   ],
   "source": [
    "#Random integer matrix\n",
    "np.random.randint(1,10,size=(3,3))"
   ]
  },
  {
   "cell_type": "code",
   "execution_count": 6,
   "id": "7d754f4c-4f94-4419-889f-621fa5a3bc0c",
   "metadata": {},
   "outputs": [
    {
     "data": {
      "text/plain": [
       "array([[-4, -7, -2],\n",
       "       [-1, -5, -8],\n",
       "       [-8, -4, -2]])"
      ]
     },
     "execution_count": 6,
     "metadata": {},
     "output_type": "execute_result"
    }
   ],
   "source": [
    "#NEgative numbers in 2d array\n",
    "np.random.randint(-9,0,size=(3,3))"
   ]
  },
  {
   "cell_type": "markdown",
   "id": "6d0b0636-2742-447a-a4c3-6b18390e42c5",
   "metadata": {},
   "source": [
    "**Repeating 2D Array elements**"
   ]
  },
  {
   "cell_type": "code",
   "execution_count": 8,
   "id": "f81defc1-53a3-4250-99df-639435d2c1ef",
   "metadata": {},
   "outputs": [
    {
     "data": {
      "text/plain": [
       "array([1, 1, 1, 2, 2, 2, 3, 3, 3])"
      ]
     },
     "execution_count": 8,
     "metadata": {},
     "output_type": "execute_result"
    }
   ],
   "source": [
    "#Repeating elements\n",
    "ap = np.array([1,2,3])\n",
    "r1 = np.repeat(ap,3,axis=0)\n",
    "r1"
   ]
  },
  {
   "cell_type": "code",
   "execution_count": 11,
   "id": "bc8e9986-5888-4250-8843-a559a205c536",
   "metadata": {},
   "outputs": [
    {
     "data": {
      "text/plain": [
       "array([[1, 2, 3, 4],\n",
       "       [1, 2, 3, 4],\n",
       "       [5, 6, 7, 8],\n",
       "       [5, 6, 7, 8]])"
      ]
     },
     "execution_count": 11,
     "metadata": {},
     "output_type": "execute_result"
    }
   ],
   "source": [
    "ra = np.array([[1,2,3,4],[5,6,7,8]])\n",
    "r2 = np.repeat(ra,2,axis=0)\n",
    "r2\n",
    "#axis = 0 (row)\n",
    "#axis = 1 (column)"
   ]
  },
  {
   "cell_type": "markdown",
   "id": "488664df-67ef-4bef-96a4-6da57c0d0127",
   "metadata": {},
   "source": [
    "**Printing Particular Pattern**"
   ]
  },
  {
   "cell_type": "code",
   "execution_count": 4,
   "id": "2c4b41cb-884b-48d6-b4e7-643554a2ce21",
   "metadata": {},
   "outputs": [
    {
     "data": {
      "text/plain": [
       "array([[1., 1., 1., 1., 1.],\n",
       "       [1., 0., 0., 0., 1.],\n",
       "       [1., 0., 9., 0., 1.],\n",
       "       [1., 0., 0., 0., 1.],\n",
       "       [1., 1., 1., 1., 1.]])"
      ]
     },
     "execution_count": 4,
     "metadata": {},
     "output_type": "execute_result"
    }
   ],
   "source": [
    "output = np.ones((5,5))\n",
    "output[1:4,1:4] = 0\n",
    "output[2,2] =9\n",
    "output"
   ]
  },
  {
   "cell_type": "code",
   "execution_count": 10,
   "id": "042cd27e-9d05-4ef0-a097-215a7f7a8123",
   "metadata": {},
   "outputs": [
    {
     "data": {
      "text/plain": [
       "array([[1., 1., 1., 1., 1.],\n",
       "       [1., 0., 0., 0., 1.],\n",
       "       [1., 0., 0., 0., 1.],\n",
       "       [1., 0., 0., 0., 1.],\n",
       "       [1., 1., 1., 1., 1.]])"
      ]
     },
     "execution_count": 10,
     "metadata": {},
     "output_type": "execute_result"
    }
   ],
   "source": [
    "pattern = np.ones((5,5))\n",
    "zero = np.zeros((3,3))\n",
    "zero\n",
    "pattern[1:4,1:4] = zero\n",
    "pattern"
   ]
  },
  {
   "cell_type": "markdown",
   "id": "2658c83d-5511-480f-b54c-6a24a6b8c553",
   "metadata": {},
   "source": [
    "**Copying Arrays**"
   ]
  },
  {
   "cell_type": "code",
   "execution_count": null,
   "id": "d6db6095-2627-4e6a-95da-9ddefc2c5cec",
   "metadata": {},
   "outputs": [],
   "source": [
    "\n",
    "a = np.array([1,2,3,4,5])\n",
    "b = a.copy()\n",
    "b[0]=0\n",
    "b"
   ]
  }
 ],
 "metadata": {
  "kernelspec": {
   "display_name": "Python 3 (ipykernel)",
   "language": "python",
   "name": "python3"
  },
  "language_info": {
   "codemirror_mode": {
    "name": "ipython",
    "version": 3
   },
   "file_extension": ".py",
   "mimetype": "text/x-python",
   "name": "python",
   "nbconvert_exporter": "python",
   "pygments_lexer": "ipython3",
   "version": "3.12.3"
  }
 },
 "nbformat": 4,
 "nbformat_minor": 5
}
