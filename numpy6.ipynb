{
 "cells": [
  {
   "cell_type": "markdown",
   "id": "c739414a-6bfa-4275-a960-9b22c6670404",
   "metadata": {
    "vscode": {
     "languageId": "plaintext"
    }
   },
   "source": [
    "**Numpy Revision For Machine Learning**"
   ]
  },
  {
   "cell_type": "code",
   "execution_count": 2,
   "id": "c1a02108-1a8a-482d-a965-92fd5bb7516b",
   "metadata": {},
   "outputs": [
    {
     "name": "stdout",
     "output_type": "stream",
     "text": [
      "[1 2 3 4 5 6]\n"
     ]
    }
   ],
   "source": [
    "import numpy as np\n",
    "data_1d = np.array([1,2,3,4,5,6])\n",
    "print(data_1d)"
   ]
  },
  {
   "cell_type": "code",
   "execution_count": 3,
   "id": "0bd362a7-c5e0-41c7-93fd-118a60675b59",
   "metadata": {},
   "outputs": [
    {
     "name": "stdout",
     "output_type": "stream",
     "text": [
      "[[1 2 3]\n",
      " [4 5 6]]\n"
     ]
    }
   ],
   "source": [
    "data_2d = np.array([[1,2,3],[4,5,6]])\n",
    "print(data_2d)"
   ]
  },
  {
   "cell_type": "code",
   "execution_count": 5,
   "id": "1781f827-52a3-4ed1-b82a-68aaf1568c02",
   "metadata": {},
   "outputs": [
    {
     "name": "stdout",
     "output_type": "stream",
     "text": [
      "[[[1 2]\n",
      "  [3 4]]\n",
      "\n",
      " [[5 6]\n",
      "  [7 8]]]\n"
     ]
    }
   ],
   "source": [
    "data_3d = np.array([\n",
    "    [[1,2],[3,4]],\n",
    "    [[5,6],[7,8]]\n",
    "])\n",
    "print(data_3d)"
   ]
  },
  {
   "cell_type": "markdown",
   "id": "1ce3965b-b6b0-466c-976f-6aeb5a2ff3b7",
   "metadata": {},
   "source": [
    "**to know dimension of array**"
   ]
  },
  {
   "cell_type": "code",
   "execution_count": 6,
   "id": "d62dc9e5-db5e-44f8-b021-9a7e40d52cc1",
   "metadata": {},
   "outputs": [
    {
     "data": {
      "text/plain": [
       "3"
      ]
     },
     "execution_count": 6,
     "metadata": {},
     "output_type": "execute_result"
    }
   ],
   "source": [
    "data_3d.ndim"
   ]
  },
  {
   "cell_type": "code",
   "execution_count": null,
   "id": "c107bb2c-9982-4286-92d9-9e30195ac30a",
   "metadata": {},
   "outputs": [],
   "source": []
  }
 ],
 "metadata": {
  "kernelspec": {
   "display_name": "Python 3 (ipykernel)",
   "language": "python",
   "name": "python3"
  },
  "language_info": {
   "codemirror_mode": {
    "name": "ipython",
    "version": 3
   },
   "file_extension": ".py",
   "mimetype": "text/x-python",
   "name": "python",
   "nbconvert_exporter": "python",
   "pygments_lexer": "ipython3",
   "version": "3.12.3"
  }
 },
 "nbformat": 4,
 "nbformat_minor": 5
}
