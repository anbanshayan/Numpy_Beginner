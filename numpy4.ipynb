{
 "cells": [
  {
   "cell_type": "code",
   "execution_count": 2,
   "id": "8a20af6c",
   "metadata": {
    "vscode": {
     "languageId": "plaintext"
    }
   },
   "outputs": [],
   "source": [
    "import numpy as np"
   ]
  },
  {
   "cell_type": "code",
   "execution_count": 4,
   "id": "e526636f-4c0f-415f-9666-ceb173526522",
   "metadata": {},
   "outputs": [
    {
     "data": {
      "text/plain": [
       "array([[1, 2, 3],\n",
       "       [4, 5, 6]])"
      ]
     },
     "execution_count": 4,
     "metadata": {},
     "output_type": "execute_result"
    }
   ],
   "source": [
    "stats = np.array([[1,2,3],[4,5,6]])\n",
    "stats"
   ]
  },
  {
   "cell_type": "code",
   "execution_count": 8,
   "id": "3e1d5f33-f8c0-40d0-97f6-961341c9995c",
   "metadata": {},
   "outputs": [
    {
     "data": {
      "text/plain": [
       "array([1, 4])"
      ]
     },
     "execution_count": 8,
     "metadata": {},
     "output_type": "execute_result"
    }
   ],
   "source": [
    "np.min(stats,axis=1)"
   ]
  },
  {
   "cell_type": "code",
   "execution_count": 9,
   "id": "89b12d36-d8f6-4092-ae52-5204b9e5e1da",
   "metadata": {},
   "outputs": [
    {
     "data": {
      "text/plain": [
       "np.int64(21)"
      ]
     },
     "execution_count": 9,
     "metadata": {},
     "output_type": "execute_result"
    }
   ],
   "source": [
    "np.sum(stats)"
   ]
  },
  {
   "cell_type": "markdown",
   "id": "9e70860f-da29-42ff-9ad8-b8acdc66ba07",
   "metadata": {},
   "source": [
    "**Re-organizing Arrays**"
   ]
  },
  {
   "cell_type": "code",
   "execution_count": 6,
   "id": "34350e97-c3e6-40b8-b5c1-d1e16a80b44d",
   "metadata": {},
   "outputs": [
    {
     "name": "stdout",
     "output_type": "stream",
     "text": [
      "[[1 2 3 4]\n",
      " [5 6 7 8]]\n"
     ]
    }
   ],
   "source": [
    "before = np.array([[1,2,3,4],[5,6,7,8]])\n",
    "after = before.reshape((2,4))\n",
    "print(after)"
   ]
  },
  {
   "cell_type": "code",
   "execution_count": 8,
   "id": "a75fd4be-8a20-4dcb-8c91-df560b862151",
   "metadata": {},
   "outputs": [],
   "source": [
    "v1 = np.array([1,2,3,4])\n",
    "v2 = np.array([5,6,7,8])\n",
    "np.vstack([v1,v2,v1,v2])"
   ]
  },
  {
   "cell_type": "markdown",
   "id": "ae77eec2-54bc-48c4-a3ad-ab5cb3cb1733",
   "metadata": {},
   "source": [
    "vstack stands for vertical stack.\n",
    "It stacks arrays vertically, i.e., row-wise."
   ]
  },
  {
   "cell_type": "code",
   "execution_count": 10,
   "id": "b192ce9f-00a5-4768-bfd1-0782a4c162aa",
   "metadata": {},
   "outputs": [
    {
     "data": {
      "text/plain": [
       "array([1, 2, 3, 4, 5, 6, 7, 8, 1, 2, 3, 4, 5, 6, 7, 8])"
      ]
     },
     "execution_count": 10,
     "metadata": {},
     "output_type": "execute_result"
    }
   ],
   "source": [
    "np.hstack([v1,v2,v1,v2])"
   ]
  },
  {
   "cell_type": "markdown",
   "id": "f1b73434-47da-461c-a7d7-073b26dae5f0",
   "metadata": {},
   "source": [
    "hstack stands for horizontal stack.\n",
    "It stacks arrays horizontally, i.e., column-wise."
   ]
  },
  {
   "cell_type": "code",
   "execution_count": null,
   "id": "f4964bc9-2a40-41d4-bb9e-a98eaa53063b",
   "metadata": {},
   "outputs": [],
   "source": []
  }
 ],
 "metadata": {
  "kernelspec": {
   "display_name": "Python 3 (ipykernel)",
   "language": "python",
   "name": "python3"
  },
  "language_info": {
   "codemirror_mode": {
    "name": "ipython",
    "version": 3
   },
   "file_extension": ".py",
   "mimetype": "text/x-python",
   "name": "python",
   "nbconvert_exporter": "python",
   "pygments_lexer": "ipython3",
   "version": "3.12.3"
  }
 },
 "nbformat": 4,
 "nbformat_minor": 5
}
