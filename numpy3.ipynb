{
 "cells": [
  {
   "cell_type": "markdown",
   "id": "ee9781d6-b392-4139-acb3-ea75b72dbf17",
   "metadata": {},
   "source": [
    "**Mathematics**"
   ]
  },
  {
   "cell_type": "code",
   "execution_count": 2,
   "id": "e1b0c3f3",
   "metadata": {
    "vscode": {
     "languageId": "plaintext"
    }
   },
   "outputs": [],
   "source": [
    "import numpy as np"
   ]
  },
  {
   "cell_type": "code",
   "execution_count": 13,
   "id": "413c3f69-e39e-4b32-83e4-5ad104cff60a",
   "metadata": {},
   "outputs": [
    {
     "data": {
      "text/plain": [
       "array([1, 2, 3, 4, 5])"
      ]
     },
     "execution_count": 13,
     "metadata": {},
     "output_type": "execute_result"
    }
   ],
   "source": [
    "a = np.array([1,2,3,4,5])\n",
    "a"
   ]
  },
  {
   "cell_type": "markdown",
   "id": "59a7c467-3593-4118-b063-4d7d20888c9f",
   "metadata": {},
   "source": [
    "**Array addition**"
   ]
  },
  {
   "cell_type": "code",
   "execution_count": 16,
   "id": "0d338388-73db-46cf-b9ff-d0a12bf59e6b",
   "metadata": {},
   "outputs": [
    {
     "data": {
      "text/plain": [
       "array([ 6,  7,  8,  9, 10])"
      ]
     },
     "execution_count": 16,
     "metadata": {},
     "output_type": "execute_result"
    }
   ],
   "source": [
    "a+5"
   ]
  },
  {
   "cell_type": "markdown",
   "id": "7de21e25-e638-4452-b2a9-7c9f8df9f64a",
   "metadata": {},
   "source": [
    "**Array Subtraction**"
   ]
  },
  {
   "cell_type": "code",
   "execution_count": 15,
   "id": "ed1f1803-8e99-409c-929a-76e2887c602c",
   "metadata": {},
   "outputs": [
    {
     "data": {
      "text/plain": [
       "array([-4, -3, -2, -1,  0])"
      ]
     },
     "execution_count": 15,
     "metadata": {},
     "output_type": "execute_result"
    }
   ],
   "source": [
    "a-5"
   ]
  },
  {
   "cell_type": "markdown",
   "id": "4ba4f035-c43f-4c2b-b091-6edb4166685b",
   "metadata": {},
   "source": [
    "**Array Multiplication**"
   ]
  },
  {
   "cell_type": "code",
   "execution_count": 8,
   "id": "2b693517-9326-4ba6-92b8-9d95cca17d23",
   "metadata": {},
   "outputs": [
    {
     "data": {
      "text/plain": [
       "array([ 4,  8, 12, 16, 20])"
      ]
     },
     "execution_count": 8,
     "metadata": {},
     "output_type": "execute_result"
    }
   ],
   "source": [
    "m = a*2\n",
    "m"
   ]
  },
  {
   "cell_type": "markdown",
   "id": "46b3b62f-7776-4e71-906e-37b8e774113a",
   "metadata": {},
   "source": [
    "**Array Division**"
   ]
  },
  {
   "cell_type": "code",
   "execution_count": 20,
   "id": "6b477f91-fe4c-4c62-a7fd-a2bbd93e66e2",
   "metadata": {},
   "outputs": [
    {
     "data": {
      "text/plain": [
       "array([ 2.,  4.,  6.,  8., 10.])"
      ]
     },
     "execution_count": 20,
     "metadata": {},
     "output_type": "execute_result"
    }
   ],
   "source": [
    "m/2"
   ]
  },
  {
   "cell_type": "markdown",
   "id": "01ddc7e4-b250-44eb-8b8b-8c5bc3da5e16",
   "metadata": {},
   "source": [
    "**Finding sin cos and tan**"
   ]
  },
  {
   "cell_type": "code",
   "execution_count": 21,
   "id": "5fbd529e-7e74-4137-b640-de55cce0a2e3",
   "metadata": {},
   "outputs": [
    {
     "data": {
      "text/plain": [
       "array([1, 2, 3])"
      ]
     },
     "execution_count": 21,
     "metadata": {},
     "output_type": "execute_result"
    }
   ],
   "source": [
    "p = np.array([1,2,3])\n",
    "p"
   ]
  },
  {
   "cell_type": "code",
   "execution_count": 22,
   "id": "b980e615-9673-4ea7-b5e0-6c601c9d6869",
   "metadata": {},
   "outputs": [
    {
     "data": {
      "text/plain": [
       "array([ 0.54030231, -0.41614684, -0.9899925 ])"
      ]
     },
     "execution_count": 22,
     "metadata": {},
     "output_type": "execute_result"
    }
   ],
   "source": [
    "np.cos(p)"
   ]
  },
  {
   "cell_type": "code",
   "execution_count": 23,
   "id": "ba2a9479-13af-4bc9-a0ec-5f72ac59e080",
   "metadata": {},
   "outputs": [
    {
     "data": {
      "text/plain": [
       "array([ 0.84147098,  0.90929743,  0.14112001, -0.7568025 , -0.95892427])"
      ]
     },
     "execution_count": 23,
     "metadata": {},
     "output_type": "execute_result"
    }
   ],
   "source": [
    "np.sin(a)"
   ]
  },
  {
   "cell_type": "code",
   "execution_count": 24,
   "id": "8f2440ce-bac0-4ac9-b3c6-b3780fc114f2",
   "metadata": {},
   "outputs": [
    {
     "data": {
      "text/plain": [
       "array([ 1.55740772, -2.18503986, -0.14254654,  1.15782128, -3.38051501])"
      ]
     },
     "execution_count": 24,
     "metadata": {},
     "output_type": "execute_result"
    }
   ],
   "source": [
    "np.tan(a)"
   ]
  },
  {
   "cell_type": "code",
   "execution_count": 12,
   "id": "0c95a424-8a2a-4a79-9f11-7bac91ab2fe1",
   "metadata": {},
   "outputs": [
    {
     "name": "stdout",
     "output_type": "stream",
     "text": [
      "(2, 2)\n",
      "(2, 2)\n"
     ]
    }
   ],
   "source": [
    "b = np.array([[1,2],[3,4]])\n",
    "print(b.shape)\n",
    "c = np.array([[5,6],[7,8]])\n",
    "print(c.shape)"
   ]
  },
  {
   "cell_type": "markdown",
   "id": "ccb41a75-eaae-4420-b045-e3fa98588ebe",
   "metadata": {},
   "source": [
    "**To this kind of multiplication both shape of 2d array should be same**"
   ]
  },
  {
   "cell_type": "code",
   "execution_count": 13,
   "id": "54d9a3c9-3bc5-4ad4-ac67-b3743e10c92a",
   "metadata": {},
   "outputs": [
    {
     "data": {
      "text/plain": [
       "array([[ 5, 12],\n",
       "       [21, 32]])"
      ]
     },
     "execution_count": 13,
     "metadata": {},
     "output_type": "execute_result"
    }
   ],
   "source": [
    "b*c"
   ]
  },
  {
   "cell_type": "code",
   "execution_count": 16,
   "id": "c8d9508f-6f89-46a3-aaf0-a7edd8de1658",
   "metadata": {},
   "outputs": [
    {
     "data": {
      "text/plain": [
       "array([[24, 33, 42],\n",
       "       [34, 47, 60],\n",
       "       [44, 61, 78]])"
      ]
     },
     "execution_count": 16,
     "metadata": {},
     "output_type": "execute_result"
    }
   ],
   "source": [
    "d = np.array([[4,5],[6,7],[8,9]])\n",
    "e = np.array([[1,2,3],[4,5,6]])\n",
    "np.matmul(d,e)"
   ]
  },
  {
   "cell_type": "code",
   "execution_count": 17,
   "id": "90d16b56-3e0c-4b3d-abe7-7ffe4bd86b20",
   "metadata": {},
   "outputs": [
    {
     "data": {
      "text/plain": [
       "array([[1., 0., 0.],\n",
       "       [0., 1., 0.],\n",
       "       [0., 0., 1.]])"
      ]
     },
     "execution_count": 17,
     "metadata": {},
     "output_type": "execute_result"
    }
   ],
   "source": [
    "v = np.identity(3)\n",
    "v"
   ]
  },
  {
   "cell_type": "code",
   "execution_count": 19,
   "id": "cbeebf56-839b-44d8-afe3-7eca83f09c40",
   "metadata": {},
   "outputs": [
    {
     "data": {
      "text/plain": [
       "np.float64(1.0)"
      ]
     },
     "execution_count": 19,
     "metadata": {},
     "output_type": "execute_result"
    }
   ],
   "source": [
    "np.linalg.det(v)"
   ]
  }
 ],
 "metadata": {
  "kernelspec": {
   "display_name": "Python 3 (ipykernel)",
   "language": "python",
   "name": "python3"
  },
  "language_info": {
   "codemirror_mode": {
    "name": "ipython",
    "version": 3
   },
   "file_extension": ".py",
   "mimetype": "text/x-python",
   "name": "python",
   "nbconvert_exporter": "python",
   "pygments_lexer": "ipython3",
   "version": "3.12.3"
  }
 },
 "nbformat": 4,
 "nbformat_minor": 5
}
